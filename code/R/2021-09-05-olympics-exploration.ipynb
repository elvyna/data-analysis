{
 "cells": [
  {
   "cell_type": "markdown",
   "id": "4dd64268-50f1-4995-8b90-99854adfae92",
   "metadata": {},
   "source": [
    "# Tidy Tuesday - Olympics\n",
    "\n",
    "## Initial Check"
   ]
  },
  {
   "cell_type": "code",
   "execution_count": 1,
   "id": "92a2ad85-3e3f-4a8b-ba1b-f0ab79f2b9f1",
   "metadata": {},
   "outputs": [
    {
     "name": "stderr",
     "output_type": "stream",
     "text": [
      "Registered S3 methods overwritten by 'tibble':\n",
      "  method     from  \n",
      "  format.tbl pillar\n",
      "  print.tbl  pillar\n",
      "\n",
      "Attaching package: ‘dplyr’\n",
      "\n",
      "The following objects are masked from ‘package:stats’:\n",
      "\n",
      "    filter, lag\n",
      "\n",
      "The following objects are masked from ‘package:base’:\n",
      "\n",
      "    intersect, setdiff, setequal, union\n",
      "\n",
      "Registered S3 methods overwritten by 'ggplot2':\n",
      "  method         from \n",
      "  [.quosures     rlang\n",
      "  c.quosures     rlang\n",
      "  print.quosures rlang\n"
     ]
    }
   ],
   "source": [
    "library(dplyr)\n",
    "library(ggplot2)"
   ]
  },
  {
   "cell_type": "code",
   "execution_count": 2,
   "id": "891723fa",
   "metadata": {},
   "outputs": [],
   "source": [
    "df_olympics <- read.csv('https://raw.githubusercontent.com/rfordatascience/tidytuesday/master/data/2021/2021-07-27/olympics.csv')"
   ]
  },
  {
   "cell_type": "code",
   "execution_count": 3,
   "id": "72c85d3a-5266-4791-bb95-b7df63d3d9bb",
   "metadata": {},
   "outputs": [
    {
     "data": {
      "text/html": [
       "<table class=\"dataframe\">\n",
       "<caption>A data.frame: 6 × 15</caption>\n",
       "<thead>\n",
       "\t<tr><th></th><th scope=col>id</th><th scope=col>name</th><th scope=col>sex</th><th scope=col>age</th><th scope=col>height</th><th scope=col>weight</th><th scope=col>team</th><th scope=col>noc</th><th scope=col>games</th><th scope=col>year</th><th scope=col>season</th><th scope=col>city</th><th scope=col>sport</th><th scope=col>event</th><th scope=col>medal</th></tr>\n",
       "\t<tr><th></th><th scope=col>&lt;int&gt;</th><th scope=col>&lt;fct&gt;</th><th scope=col>&lt;fct&gt;</th><th scope=col>&lt;int&gt;</th><th scope=col>&lt;int&gt;</th><th scope=col>&lt;dbl&gt;</th><th scope=col>&lt;fct&gt;</th><th scope=col>&lt;fct&gt;</th><th scope=col>&lt;fct&gt;</th><th scope=col>&lt;int&gt;</th><th scope=col>&lt;fct&gt;</th><th scope=col>&lt;fct&gt;</th><th scope=col>&lt;fct&gt;</th><th scope=col>&lt;fct&gt;</th><th scope=col>&lt;fct&gt;</th></tr>\n",
       "</thead>\n",
       "<tbody>\n",
       "\t<tr><th scope=row>1</th><td>1</td><td>A Dijiang               </td><td>M</td><td>24</td><td>180</td><td>80</td><td>China         </td><td>CHN</td><td>1992 Summer</td><td>1992</td><td>Summer</td><td>Barcelona</td><td>Basketball   </td><td>Basketball Men's Basketball       </td><td>NA  </td></tr>\n",
       "\t<tr><th scope=row>2</th><td>2</td><td>A Lamusi                </td><td>M</td><td>23</td><td>170</td><td>60</td><td>China         </td><td>CHN</td><td>2012 Summer</td><td>2012</td><td>Summer</td><td>London   </td><td>Judo         </td><td>Judo Men's Extra-Lightweight      </td><td>NA  </td></tr>\n",
       "\t<tr><th scope=row>3</th><td>3</td><td>Gunnar Nielsen Aaby     </td><td>M</td><td>24</td><td> NA</td><td>NA</td><td>Denmark       </td><td>DEN</td><td>1920 Summer</td><td>1920</td><td>Summer</td><td>Antwerpen</td><td>Football     </td><td>Football Men's Football           </td><td>NA  </td></tr>\n",
       "\t<tr><th scope=row>4</th><td>4</td><td>Edgar Lindenau Aabye    </td><td>M</td><td>34</td><td> NA</td><td>NA</td><td>Denmark/Sweden</td><td>DEN</td><td>1900 Summer</td><td>1900</td><td>Summer</td><td>Paris    </td><td>Tug-Of-War   </td><td>Tug-Of-War Men's Tug-Of-War       </td><td>Gold</td></tr>\n",
       "\t<tr><th scope=row>5</th><td>5</td><td>Christine Jacoba Aaftink</td><td>F</td><td>21</td><td>185</td><td>82</td><td>Netherlands   </td><td>NED</td><td>1988 Winter</td><td>1988</td><td>Winter</td><td>Calgary  </td><td>Speed Skating</td><td>Speed Skating Women's 500 metres  </td><td>NA  </td></tr>\n",
       "\t<tr><th scope=row>6</th><td>5</td><td>Christine Jacoba Aaftink</td><td>F</td><td>21</td><td>185</td><td>82</td><td>Netherlands   </td><td>NED</td><td>1988 Winter</td><td>1988</td><td>Winter</td><td>Calgary  </td><td>Speed Skating</td><td>Speed Skating Women's 1,000 metres</td><td>NA  </td></tr>\n",
       "</tbody>\n",
       "</table>\n"
      ],
      "text/latex": [
       "A data.frame: 6 × 15\n",
       "\\begin{tabular}{r|lllllllllllllll}\n",
       "  & id & name & sex & age & height & weight & team & noc & games & year & season & city & sport & event & medal\\\\\n",
       "  & <int> & <fct> & <fct> & <int> & <int> & <dbl> & <fct> & <fct> & <fct> & <int> & <fct> & <fct> & <fct> & <fct> & <fct>\\\\\n",
       "\\hline\n",
       "\t1 & 1 & A Dijiang                & M & 24 & 180 & 80 & China          & CHN & 1992 Summer & 1992 & Summer & Barcelona & Basketball    & Basketball Men's Basketball        & NA  \\\\\n",
       "\t2 & 2 & A Lamusi                 & M & 23 & 170 & 60 & China          & CHN & 2012 Summer & 2012 & Summer & London    & Judo          & Judo Men's Extra-Lightweight       & NA  \\\\\n",
       "\t3 & 3 & Gunnar Nielsen Aaby      & M & 24 &  NA & NA & Denmark        & DEN & 1920 Summer & 1920 & Summer & Antwerpen & Football      & Football Men's Football            & NA  \\\\\n",
       "\t4 & 4 & Edgar Lindenau Aabye     & M & 34 &  NA & NA & Denmark/Sweden & DEN & 1900 Summer & 1900 & Summer & Paris     & Tug-Of-War    & Tug-Of-War Men's Tug-Of-War        & Gold\\\\\n",
       "\t5 & 5 & Christine Jacoba Aaftink & F & 21 & 185 & 82 & Netherlands    & NED & 1988 Winter & 1988 & Winter & Calgary   & Speed Skating & Speed Skating Women's 500 metres   & NA  \\\\\n",
       "\t6 & 5 & Christine Jacoba Aaftink & F & 21 & 185 & 82 & Netherlands    & NED & 1988 Winter & 1988 & Winter & Calgary   & Speed Skating & Speed Skating Women's 1,000 metres & NA  \\\\\n",
       "\\end{tabular}\n"
      ],
      "text/markdown": [
       "\n",
       "A data.frame: 6 × 15\n",
       "\n",
       "| <!--/--> | id &lt;int&gt; | name &lt;fct&gt; | sex &lt;fct&gt; | age &lt;int&gt; | height &lt;int&gt; | weight &lt;dbl&gt; | team &lt;fct&gt; | noc &lt;fct&gt; | games &lt;fct&gt; | year &lt;int&gt; | season &lt;fct&gt; | city &lt;fct&gt; | sport &lt;fct&gt; | event &lt;fct&gt; | medal &lt;fct&gt; |\n",
       "|---|---|---|---|---|---|---|---|---|---|---|---|---|---|---|---|\n",
       "| 1 | 1 | A Dijiang                | M | 24 | 180 | 80 | China          | CHN | 1992 Summer | 1992 | Summer | Barcelona | Basketball    | Basketball Men's Basketball        | NA   |\n",
       "| 2 | 2 | A Lamusi                 | M | 23 | 170 | 60 | China          | CHN | 2012 Summer | 2012 | Summer | London    | Judo          | Judo Men's Extra-Lightweight       | NA   |\n",
       "| 3 | 3 | Gunnar Nielsen Aaby      | M | 24 |  NA | NA | Denmark        | DEN | 1920 Summer | 1920 | Summer | Antwerpen | Football      | Football Men's Football            | NA   |\n",
       "| 4 | 4 | Edgar Lindenau Aabye     | M | 34 |  NA | NA | Denmark/Sweden | DEN | 1900 Summer | 1900 | Summer | Paris     | Tug-Of-War    | Tug-Of-War Men's Tug-Of-War        | Gold |\n",
       "| 5 | 5 | Christine Jacoba Aaftink | F | 21 | 185 | 82 | Netherlands    | NED | 1988 Winter | 1988 | Winter | Calgary   | Speed Skating | Speed Skating Women's 500 metres   | NA   |\n",
       "| 6 | 5 | Christine Jacoba Aaftink | F | 21 | 185 | 82 | Netherlands    | NED | 1988 Winter | 1988 | Winter | Calgary   | Speed Skating | Speed Skating Women's 1,000 metres | NA   |\n",
       "\n"
      ],
      "text/plain": [
       "  id name                     sex age height weight team           noc\n",
       "1 1  A Dijiang                M   24  180    80     China          CHN\n",
       "2 2  A Lamusi                 M   23  170    60     China          CHN\n",
       "3 3  Gunnar Nielsen Aaby      M   24   NA    NA     Denmark        DEN\n",
       "4 4  Edgar Lindenau Aabye     M   34   NA    NA     Denmark/Sweden DEN\n",
       "5 5  Christine Jacoba Aaftink F   21  185    82     Netherlands    NED\n",
       "6 5  Christine Jacoba Aaftink F   21  185    82     Netherlands    NED\n",
       "  games       year season city      sport        \n",
       "1 1992 Summer 1992 Summer Barcelona Basketball   \n",
       "2 2012 Summer 2012 Summer London    Judo         \n",
       "3 1920 Summer 1920 Summer Antwerpen Football     \n",
       "4 1900 Summer 1900 Summer Paris     Tug-Of-War   \n",
       "5 1988 Winter 1988 Winter Calgary   Speed Skating\n",
       "6 1988 Winter 1988 Winter Calgary   Speed Skating\n",
       "  event                              medal\n",
       "1 Basketball Men's Basketball        NA   \n",
       "2 Judo Men's Extra-Lightweight       NA   \n",
       "3 Football Men's Football            NA   \n",
       "4 Tug-Of-War Men's Tug-Of-War        Gold \n",
       "5 Speed Skating Women's 500 metres   NA   \n",
       "6 Speed Skating Women's 1,000 metres NA   "
      ]
     },
     "metadata": {},
     "output_type": "display_data"
    },
    {
     "data": {
      "text/html": [
       "<style>\n",
       ".list-inline {list-style: none; margin:0; padding: 0}\n",
       ".list-inline>li {display: inline-block}\n",
       ".list-inline>li:not(:last-child)::after {content: \"\\00b7\"; padding: 0 .5ex}\n",
       "</style>\n",
       "<ol class=list-inline><li>271116</li><li>15</li></ol>\n"
      ],
      "text/latex": [
       "\\begin{enumerate*}\n",
       "\\item 271116\n",
       "\\item 15\n",
       "\\end{enumerate*}\n"
      ],
      "text/markdown": [
       "1. 271116\n",
       "2. 15\n",
       "\n",
       "\n"
      ],
      "text/plain": [
       "[1] 271116     15"
      ]
     },
     "metadata": {},
     "output_type": "display_data"
    },
    {
     "data": {
      "text/html": [
       "<table class=\"dataframe\">\n",
       "<caption>A data.frame: 1 × 15</caption>\n",
       "<thead>\n",
       "\t<tr><th></th><th scope=col>id</th><th scope=col>name</th><th scope=col>sex</th><th scope=col>age</th><th scope=col>height</th><th scope=col>weight</th><th scope=col>team</th><th scope=col>noc</th><th scope=col>games</th><th scope=col>year</th><th scope=col>season</th><th scope=col>city</th><th scope=col>sport</th><th scope=col>event</th><th scope=col>medal</th></tr>\n",
       "\t<tr><th></th><th scope=col>&lt;int&gt;</th><th scope=col>&lt;fct&gt;</th><th scope=col>&lt;fct&gt;</th><th scope=col>&lt;int&gt;</th><th scope=col>&lt;int&gt;</th><th scope=col>&lt;dbl&gt;</th><th scope=col>&lt;fct&gt;</th><th scope=col>&lt;fct&gt;</th><th scope=col>&lt;fct&gt;</th><th scope=col>&lt;int&gt;</th><th scope=col>&lt;fct&gt;</th><th scope=col>&lt;fct&gt;</th><th scope=col>&lt;fct&gt;</th><th scope=col>&lt;fct&gt;</th><th scope=col>&lt;fct&gt;</th></tr>\n",
       "</thead>\n",
       "<tbody>\n",
       "\t<tr><th scope=row>1</th><td>1</td><td>A Dijiang</td><td>M</td><td>24</td><td>180</td><td>80</td><td>China</td><td>CHN</td><td>1992 Summer</td><td>1992</td><td>Summer</td><td>Barcelona</td><td>Basketball</td><td>Basketball Men's Basketball</td><td>NA</td></tr>\n",
       "</tbody>\n",
       "</table>\n"
      ],
      "text/latex": [
       "A data.frame: 1 × 15\n",
       "\\begin{tabular}{r|lllllllllllllll}\n",
       "  & id & name & sex & age & height & weight & team & noc & games & year & season & city & sport & event & medal\\\\\n",
       "  & <int> & <fct> & <fct> & <int> & <int> & <dbl> & <fct> & <fct> & <fct> & <int> & <fct> & <fct> & <fct> & <fct> & <fct>\\\\\n",
       "\\hline\n",
       "\t1 & 1 & A Dijiang & M & 24 & 180 & 80 & China & CHN & 1992 Summer & 1992 & Summer & Barcelona & Basketball & Basketball Men's Basketball & NA\\\\\n",
       "\\end{tabular}\n"
      ],
      "text/markdown": [
       "\n",
       "A data.frame: 1 × 15\n",
       "\n",
       "| <!--/--> | id &lt;int&gt; | name &lt;fct&gt; | sex &lt;fct&gt; | age &lt;int&gt; | height &lt;int&gt; | weight &lt;dbl&gt; | team &lt;fct&gt; | noc &lt;fct&gt; | games &lt;fct&gt; | year &lt;int&gt; | season &lt;fct&gt; | city &lt;fct&gt; | sport &lt;fct&gt; | event &lt;fct&gt; | medal &lt;fct&gt; |\n",
       "|---|---|---|---|---|---|---|---|---|---|---|---|---|---|---|---|\n",
       "| 1 | 1 | A Dijiang | M | 24 | 180 | 80 | China | CHN | 1992 Summer | 1992 | Summer | Barcelona | Basketball | Basketball Men's Basketball | NA |\n",
       "\n"
      ],
      "text/plain": [
       "  id name      sex age height weight team  noc games       year season\n",
       "1 1  A Dijiang M   24  180    80     China CHN 1992 Summer 1992 Summer\n",
       "  city      sport      event                       medal\n",
       "1 Barcelona Basketball Basketball Men's Basketball NA   "
      ]
     },
     "metadata": {},
     "output_type": "display_data"
    }
   ],
   "source": [
    "head(df_olympics)\n",
    "dim(df_olympics)\n",
    "df_olympics[1,]"
   ]
  },
  {
   "cell_type": "code",
   "execution_count": 4,
   "id": "0109e7e4-c379-4f88-8f53-bd2185c98521",
   "metadata": {},
   "outputs": [
    {
     "data": {
      "text/html": [
       "<table class=\"dataframe\">\n",
       "<caption>A tibble: 1 × 1</caption>\n",
       "<thead>\n",
       "\t<tr><th scope=col>n</th></tr>\n",
       "\t<tr><th scope=col>&lt;int&gt;</th></tr>\n",
       "</thead>\n",
       "<tbody>\n",
       "\t<tr><td>35</td></tr>\n",
       "</tbody>\n",
       "</table>\n"
      ],
      "text/latex": [
       "A tibble: 1 × 1\n",
       "\\begin{tabular}{l}\n",
       " n\\\\\n",
       " <int>\\\\\n",
       "\\hline\n",
       "\t 35\\\\\n",
       "\\end{tabular}\n"
      ],
      "text/markdown": [
       "\n",
       "A tibble: 1 × 1\n",
       "\n",
       "| n &lt;int&gt; |\n",
       "|---|\n",
       "| 35 |\n",
       "\n"
      ],
      "text/plain": [
       "  n \n",
       "1 35"
      ]
     },
     "metadata": {},
     "output_type": "display_data"
    }
   ],
   "source": [
    "df_olympics %>% select(year) %>% unique() %>% count()"
   ]
  },
  {
   "cell_type": "code",
   "execution_count": 6,
   "id": "63430434-5e9e-45ef-9865-3d2a29770edf",
   "metadata": {},
   "outputs": [
    {
     "data": {
      "text/html": [
       "<table class=\"dataframe\">\n",
       "<caption>A data.frame: 6 × 1</caption>\n",
       "<thead>\n",
       "\t<tr><th></th><th scope=col>sport</th></tr>\n",
       "\t<tr><th></th><th scope=col>&lt;fct&gt;</th></tr>\n",
       "</thead>\n",
       "<tbody>\n",
       "\t<tr><th scope=row>1</th><td>Basketball          </td></tr>\n",
       "\t<tr><th scope=row>2</th><td>Judo                </td></tr>\n",
       "\t<tr><th scope=row>3</th><td>Football            </td></tr>\n",
       "\t<tr><th scope=row>4</th><td>Tug-Of-War          </td></tr>\n",
       "\t<tr><th scope=row>5</th><td>Speed Skating       </td></tr>\n",
       "\t<tr><th scope=row>11</th><td>Cross Country Skiing</td></tr>\n",
       "</tbody>\n",
       "</table>\n"
      ],
      "text/latex": [
       "A data.frame: 6 × 1\n",
       "\\begin{tabular}{r|l}\n",
       "  & sport\\\\\n",
       "  & <fct>\\\\\n",
       "\\hline\n",
       "\t1 & Basketball          \\\\\n",
       "\t2 & Judo                \\\\\n",
       "\t3 & Football            \\\\\n",
       "\t4 & Tug-Of-War          \\\\\n",
       "\t5 & Speed Skating       \\\\\n",
       "\t11 & Cross Country Skiing\\\\\n",
       "\\end{tabular}\n"
      ],
      "text/markdown": [
       "\n",
       "A data.frame: 6 × 1\n",
       "\n",
       "| <!--/--> | sport &lt;fct&gt; |\n",
       "|---|---|\n",
       "| 1 | Basketball           |\n",
       "| 2 | Judo                 |\n",
       "| 3 | Football             |\n",
       "| 4 | Tug-Of-War           |\n",
       "| 5 | Speed Skating        |\n",
       "| 11 | Cross Country Skiing |\n",
       "\n"
      ],
      "text/plain": [
       "   sport               \n",
       "1  Basketball          \n",
       "2  Judo                \n",
       "3  Football            \n",
       "4  Tug-Of-War          \n",
       "5  Speed Skating       \n",
       "11 Cross Country Skiing"
      ]
     },
     "metadata": {},
     "output_type": "display_data"
    }
   ],
   "source": [
    "df_olympics %>% select(sport) %>% unique() %>% head()"
   ]
  },
  {
   "cell_type": "code",
   "execution_count": 8,
   "id": "6ad14162-0e34-42ff-a685-248976b383d0",
   "metadata": {},
   "outputs": [
    {
     "data": {
      "text/html": [
       "<table class=\"dataframe\">\n",
       "<caption>A tibble: 35 × 5</caption>\n",
       "<thead>\n",
       "\t<tr><th scope=col>year</th><th scope=col>sport_count</th><th scope=col>noc_count</th><th scope=col>team_count</th><th scope=col>participant_count</th></tr>\n",
       "\t<tr><th scope=col>&lt;int&gt;</th><th scope=col>&lt;int&gt;</th><th scope=col>&lt;int&gt;</th><th scope=col>&lt;int&gt;</th><th scope=col>&lt;int&gt;</th></tr>\n",
       "</thead>\n",
       "<tbody>\n",
       "\t<tr><td>1896</td><td> 9</td><td> 12</td><td> 18</td><td>  176</td></tr>\n",
       "\t<tr><td>1900</td><td>20</td><td> 31</td><td>190</td><td> 1220</td></tr>\n",
       "\t<tr><td>1904</td><td>18</td><td> 15</td><td> 79</td><td>  650</td></tr>\n",
       "\t<tr><td>1906</td><td>13</td><td> 21</td><td> 52</td><td>  841</td></tr>\n",
       "\t<tr><td>1908</td><td>24</td><td> 22</td><td> 73</td><td> 2024</td></tr>\n",
       "\t<tr><td>1912</td><td>17</td><td> 29</td><td>102</td><td> 2409</td></tr>\n",
       "\t<tr><td>1920</td><td>25</td><td> 29</td><td> 72</td><td> 2675</td></tr>\n",
       "\t<tr><td>1924</td><td>30</td><td> 46</td><td> 93</td><td> 3565</td></tr>\n",
       "\t<tr><td>1928</td><td>25</td><td> 46</td><td> 85</td><td> 3702</td></tr>\n",
       "\t<tr><td>1932</td><td>25</td><td> 47</td><td> 72</td><td> 2174</td></tr>\n",
       "\t<tr><td>1936</td><td>32</td><td> 50</td><td>132</td><td> 5138</td></tr>\n",
       "\t<tr><td>1948</td><td>29</td><td> 61</td><td>131</td><td> 5068</td></tr>\n",
       "\t<tr><td>1952</td><td>27</td><td> 69</td><td>155</td><td> 5621</td></tr>\n",
       "\t<tr><td>1956</td><td>27</td><td> 75</td><td>149</td><td> 4166</td></tr>\n",
       "\t<tr><td>1960</td><td>27</td><td> 84</td><td>196</td><td> 6012</td></tr>\n",
       "\t<tr><td>1964</td><td>31</td><td> 94</td><td>199</td><td> 6226</td></tr>\n",
       "\t<tr><td>1968</td><td>30</td><td>112</td><td>145</td><td> 6711</td></tr>\n",
       "\t<tr><td>1972</td><td>33</td><td>121</td><td>157</td><td> 8111</td></tr>\n",
       "\t<tr><td>1976</td><td>33</td><td> 93</td><td>126</td><td> 7194</td></tr>\n",
       "\t<tr><td>1980</td><td>33</td><td> 90</td><td>111</td><td> 6323</td></tr>\n",
       "\t<tr><td>1984</td><td>35</td><td>148</td><td>179</td><td> 8057</td></tr>\n",
       "\t<tr><td>1988</td><td>37</td><td>160</td><td>211</td><td> 9860</td></tr>\n",
       "\t<tr><td>1992</td><td>41</td><td>170</td><td>239</td><td>11172</td></tr>\n",
       "\t<tr><td>1994</td><td>12</td><td> 67</td><td>101</td><td> 1738</td></tr>\n",
       "\t<tr><td>1996</td><td>31</td><td>197</td><td>246</td><td>10324</td></tr>\n",
       "\t<tr><td>1998</td><td>14</td><td> 72</td><td>106</td><td> 2178</td></tr>\n",
       "\t<tr><td>2000</td><td>34</td><td>200</td><td>243</td><td>10639</td></tr>\n",
       "\t<tr><td>2002</td><td>15</td><td> 77</td><td>114</td><td> 2397</td></tr>\n",
       "\t<tr><td>2004</td><td>34</td><td>201</td><td>260</td><td>10537</td></tr>\n",
       "\t<tr><td>2006</td><td>15</td><td> 79</td><td>113</td><td> 2494</td></tr>\n",
       "\t<tr><td>2008</td><td>34</td><td>204</td><td>292</td><td>10880</td></tr>\n",
       "\t<tr><td>2010</td><td>15</td><td> 82</td><td>116</td><td> 2535</td></tr>\n",
       "\t<tr><td>2012</td><td>32</td><td>205</td><td>245</td><td>10502</td></tr>\n",
       "\t<tr><td>2014</td><td>15</td><td> 89</td><td>119</td><td> 2744</td></tr>\n",
       "\t<tr><td>2016</td><td>34</td><td>207</td><td>249</td><td>11174</td></tr>\n",
       "</tbody>\n",
       "</table>\n"
      ],
      "text/latex": [
       "A tibble: 35 × 5\n",
       "\\begin{tabular}{lllll}\n",
       " year & sport\\_count & noc\\_count & team\\_count & participant\\_count\\\\\n",
       " <int> & <int> & <int> & <int> & <int>\\\\\n",
       "\\hline\n",
       "\t 1896 &  9 &  12 &  18 &   176\\\\\n",
       "\t 1900 & 20 &  31 & 190 &  1220\\\\\n",
       "\t 1904 & 18 &  15 &  79 &   650\\\\\n",
       "\t 1906 & 13 &  21 &  52 &   841\\\\\n",
       "\t 1908 & 24 &  22 &  73 &  2024\\\\\n",
       "\t 1912 & 17 &  29 & 102 &  2409\\\\\n",
       "\t 1920 & 25 &  29 &  72 &  2675\\\\\n",
       "\t 1924 & 30 &  46 &  93 &  3565\\\\\n",
       "\t 1928 & 25 &  46 &  85 &  3702\\\\\n",
       "\t 1932 & 25 &  47 &  72 &  2174\\\\\n",
       "\t 1936 & 32 &  50 & 132 &  5138\\\\\n",
       "\t 1948 & 29 &  61 & 131 &  5068\\\\\n",
       "\t 1952 & 27 &  69 & 155 &  5621\\\\\n",
       "\t 1956 & 27 &  75 & 149 &  4166\\\\\n",
       "\t 1960 & 27 &  84 & 196 &  6012\\\\\n",
       "\t 1964 & 31 &  94 & 199 &  6226\\\\\n",
       "\t 1968 & 30 & 112 & 145 &  6711\\\\\n",
       "\t 1972 & 33 & 121 & 157 &  8111\\\\\n",
       "\t 1976 & 33 &  93 & 126 &  7194\\\\\n",
       "\t 1980 & 33 &  90 & 111 &  6323\\\\\n",
       "\t 1984 & 35 & 148 & 179 &  8057\\\\\n",
       "\t 1988 & 37 & 160 & 211 &  9860\\\\\n",
       "\t 1992 & 41 & 170 & 239 & 11172\\\\\n",
       "\t 1994 & 12 &  67 & 101 &  1738\\\\\n",
       "\t 1996 & 31 & 197 & 246 & 10324\\\\\n",
       "\t 1998 & 14 &  72 & 106 &  2178\\\\\n",
       "\t 2000 & 34 & 200 & 243 & 10639\\\\\n",
       "\t 2002 & 15 &  77 & 114 &  2397\\\\\n",
       "\t 2004 & 34 & 201 & 260 & 10537\\\\\n",
       "\t 2006 & 15 &  79 & 113 &  2494\\\\\n",
       "\t 2008 & 34 & 204 & 292 & 10880\\\\\n",
       "\t 2010 & 15 &  82 & 116 &  2535\\\\\n",
       "\t 2012 & 32 & 205 & 245 & 10502\\\\\n",
       "\t 2014 & 15 &  89 & 119 &  2744\\\\\n",
       "\t 2016 & 34 & 207 & 249 & 11174\\\\\n",
       "\\end{tabular}\n"
      ],
      "text/markdown": [
       "\n",
       "A tibble: 35 × 5\n",
       "\n",
       "| year &lt;int&gt; | sport_count &lt;int&gt; | noc_count &lt;int&gt; | team_count &lt;int&gt; | participant_count &lt;int&gt; |\n",
       "|---|---|---|---|---|\n",
       "| 1896 |  9 |  12 |  18 |   176 |\n",
       "| 1900 | 20 |  31 | 190 |  1220 |\n",
       "| 1904 | 18 |  15 |  79 |   650 |\n",
       "| 1906 | 13 |  21 |  52 |   841 |\n",
       "| 1908 | 24 |  22 |  73 |  2024 |\n",
       "| 1912 | 17 |  29 | 102 |  2409 |\n",
       "| 1920 | 25 |  29 |  72 |  2675 |\n",
       "| 1924 | 30 |  46 |  93 |  3565 |\n",
       "| 1928 | 25 |  46 |  85 |  3702 |\n",
       "| 1932 | 25 |  47 |  72 |  2174 |\n",
       "| 1936 | 32 |  50 | 132 |  5138 |\n",
       "| 1948 | 29 |  61 | 131 |  5068 |\n",
       "| 1952 | 27 |  69 | 155 |  5621 |\n",
       "| 1956 | 27 |  75 | 149 |  4166 |\n",
       "| 1960 | 27 |  84 | 196 |  6012 |\n",
       "| 1964 | 31 |  94 | 199 |  6226 |\n",
       "| 1968 | 30 | 112 | 145 |  6711 |\n",
       "| 1972 | 33 | 121 | 157 |  8111 |\n",
       "| 1976 | 33 |  93 | 126 |  7194 |\n",
       "| 1980 | 33 |  90 | 111 |  6323 |\n",
       "| 1984 | 35 | 148 | 179 |  8057 |\n",
       "| 1988 | 37 | 160 | 211 |  9860 |\n",
       "| 1992 | 41 | 170 | 239 | 11172 |\n",
       "| 1994 | 12 |  67 | 101 |  1738 |\n",
       "| 1996 | 31 | 197 | 246 | 10324 |\n",
       "| 1998 | 14 |  72 | 106 |  2178 |\n",
       "| 2000 | 34 | 200 | 243 | 10639 |\n",
       "| 2002 | 15 |  77 | 114 |  2397 |\n",
       "| 2004 | 34 | 201 | 260 | 10537 |\n",
       "| 2006 | 15 |  79 | 113 |  2494 |\n",
       "| 2008 | 34 | 204 | 292 | 10880 |\n",
       "| 2010 | 15 |  82 | 116 |  2535 |\n",
       "| 2012 | 32 | 205 | 245 | 10502 |\n",
       "| 2014 | 15 |  89 | 119 |  2744 |\n",
       "| 2016 | 34 | 207 | 249 | 11174 |\n",
       "\n"
      ],
      "text/plain": [
       "   year sport_count noc_count team_count participant_count\n",
       "1  1896  9           12        18          176            \n",
       "2  1900 20           31       190         1220            \n",
       "3  1904 18           15        79          650            \n",
       "4  1906 13           21        52          841            \n",
       "5  1908 24           22        73         2024            \n",
       "6  1912 17           29       102         2409            \n",
       "7  1920 25           29        72         2675            \n",
       "8  1924 30           46        93         3565            \n",
       "9  1928 25           46        85         3702            \n",
       "10 1932 25           47        72         2174            \n",
       "11 1936 32           50       132         5138            \n",
       "12 1948 29           61       131         5068            \n",
       "13 1952 27           69       155         5621            \n",
       "14 1956 27           75       149         4166            \n",
       "15 1960 27           84       196         6012            \n",
       "16 1964 31           94       199         6226            \n",
       "17 1968 30          112       145         6711            \n",
       "18 1972 33          121       157         8111            \n",
       "19 1976 33           93       126         7194            \n",
       "20 1980 33           90       111         6323            \n",
       "21 1984 35          148       179         8057            \n",
       "22 1988 37          160       211         9860            \n",
       "23 1992 41          170       239        11172            \n",
       "24 1994 12           67       101         1738            \n",
       "25 1996 31          197       246        10324            \n",
       "26 1998 14           72       106         2178            \n",
       "27 2000 34          200       243        10639            \n",
       "28 2002 15           77       114         2397            \n",
       "29 2004 34          201       260        10537            \n",
       "30 2006 15           79       113         2494            \n",
       "31 2008 34          204       292        10880            \n",
       "32 2010 15           82       116         2535            \n",
       "33 2012 32          205       245        10502            \n",
       "34 2014 15           89       119         2744            \n",
       "35 2016 34          207       249        11174            "
      ]
     },
     "metadata": {},
     "output_type": "display_data"
    }
   ],
   "source": [
    "df_olympics %>% \n",
    "    group_by(year) %>% \n",
    "    summarise(\n",
    "        sport_count = n_distinct(sport),\n",
    "        noc_count =  n_distinct(noc),\n",
    "        team_count =  n_distinct(team), ## I assume it has 1-1 relationship with NOC -- apparently not! is the data dirty?\n",
    "        participant_count = n_distinct(name)\n",
    "    )"
   ]
  },
  {
   "cell_type": "markdown",
   "id": "623aac16-83bd-4de0-8b70-22452d34c10f",
   "metadata": {},
   "source": [
    "# Exploration\n",
    "\n",
    "- [ ] Number of events held so far\n",
    "    - [ ] location: host city, continent?\n",
    "        - [ ] summer or winter?\n",
    "- [ ] Number of sports or competitions over time\n",
    "    - [ ] number of countries that participated in each sport\n",
    "- [ ] age distribution of the participants\n",
    "    - [ ] split by country\n",
    "    - [ ] by gender\n",
    "- [ ] male vs. female participants compositions per country\n",
    "    - [ ] success rate (i.e., medal achievement)\n",
    "- [ ] Number of participants who\n",
    "    - [ ] participate in > 1 olympics event\n",
    "    - [ ] participate in > 1 sport in one event\n",
    "    - [ ] get multiple medals in one event\n",
    "- [ ] Focus on SEA region; compare participations and results of INA vs. others"
   ]
  },
  {
   "cell_type": "code",
   "execution_count": 3,
   "id": "e854afb6-fe54-4727-ae60-78e88f23d961",
   "metadata": {},
   "outputs": [
    {
     "name": "stderr",
     "output_type": "stream",
     "text": [
      "\n",
      "Attaching package: ‘dplyr’\n",
      "\n",
      "The following objects are masked from ‘package:stats’:\n",
      "\n",
      "    filter, lag\n",
      "\n",
      "The following objects are masked from ‘package:base’:\n",
      "\n",
      "    intersect, setdiff, setequal, union\n",
      "\n",
      "Registered S3 methods overwritten by 'ggplot2':\n",
      "  method         from \n",
      "  [.quosures     rlang\n",
      "  c.quosures     rlang\n",
      "  print.quosures rlang\n"
     ]
    },
    {
     "data": {
      "text/html": [
       "412"
      ],
      "text/latex": [
       "412"
      ],
      "text/markdown": [
       "412"
      ],
      "text/plain": [
       "[1] 412"
      ]
     },
     "metadata": {},
     "output_type": "display_data"
    }
   ],
   "source": [
    "# Indonesia\n",
    "df_olympics %>% filter(noc == 'INA') %>% nrow()"
   ]
  }
 ],
 "metadata": {
  "kernelspec": {
   "display_name": "R",
   "language": "R",
   "name": "ir"
  },
  "language_info": {
   "codemirror_mode": "r",
   "file_extension": ".r",
   "mimetype": "text/x-r-source",
   "name": "R",
   "pygments_lexer": "r",
   "version": "3.6.1"
  }
 },
 "nbformat": 4,
 "nbformat_minor": 5
}
