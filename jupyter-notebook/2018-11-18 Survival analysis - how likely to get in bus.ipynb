{
 "cells": [
  {
   "cell_type": "markdown",
   "metadata": {},
   "source": [
    "<script>\n",
    "        var code_show=true; //true -> hide code at first\n",
    "    \n",
    "        function code_toggle() {\n",
    "            $('div.prompt').hide(); // always hide prompt\n",
    "            $('div[style*=\\\"border-style: dashed\"\\]').hide(); // hide extra comments, usually log from treasuredata\n",
    "            $('div.output_stderr').parent().hide();\n",
    "    \n",
    "            if (code_show){\n",
    "                $('div.input').hide();\n",
    "            } else {\n",
    "                $('div.input').show();\n",
    "            }\n",
    "            code_show = !code_show\n",
    "        }\n",
    "        $( document ).ready(code_toggle);\n",
    "    </script>"
   ]
  },
  {
   "cell_type": "code",
   "execution_count": 1,
   "metadata": {},
   "outputs": [],
   "source": [
    "import warnings\n",
    "warnings.filterwarnings('ignore')"
   ]
  },
  {
   "cell_type": "code",
   "execution_count": 2,
   "metadata": {},
   "outputs": [],
   "source": [
    "import pandas as pd\n",
    "import numpy as np\n",
    "import seaborn as sns\n",
    "import matplotlib.pyplot as plt\n",
    "import math\n",
    "\n",
    "plt.style.use(\"bmh\")"
   ]
  },
  {
   "cell_type": "markdown",
   "metadata": {},
   "source": [
    "# Introduction\n",
    "\n",
    "## Background\n",
    "\n",
    "On weekdays, I commute using both train and TransJakarta. Since those are public transportations, we can't expect the vehicle has enough space for all passengers (yes, I don't even mention *comfortable*). Thus, sometimes I have to wait for the next train or bus, wishing that there is more space to get in. The question is, will the train/bus be spacious enough so that I could get in?\n",
    "\n",
    "## Research Questions\n",
    "\n",
    "How likely will I get in a bus after waiting for certain minutes?"
   ]
  },
  {
   "cell_type": "markdown",
   "metadata": {},
   "source": [
    "# Assumptions and Known Limitations\n",
    "\n",
    "- This analysis focuses on bus, not train, assuming that I don't have any other commuting options if I am already waiting at the train station. Meanwhile, if the bus doesn't arrive, I can use ride-hailing service.\n",
    "- The survival analysis is based on Kaplan-Meier estimator"
   ]
  },
  {
   "cell_type": "markdown",
   "metadata": {},
   "source": [
    "# Data Preparation\n",
    "\n",
    "The dataset contains 1,000 observations which simulate bus waiting time, which ranges from 1 to 45 minutes. `observed` attribute describes whether I get in the bus or not after waiting for `wait_time` minutes."
   ]
  },
  {
   "cell_type": "code",
   "execution_count": 14,
   "metadata": {},
   "outputs": [],
   "source": [
    "from random import randint\n",
    "import datetime\n",
    "\n",
    "n = 1000 # number of observations\n",
    "start_date = datetime.datetime(2018,1,1,8,0,0)\n",
    "wait_time = []\n",
    "end_date = []\n",
    "\n",
    "for i in range(n):\n",
    "    date = start_date + datetime.timedelta(minutes=randint(1,45))\n",
    "    wait_time.append((date.hour-8)*60 + date.minute)\n",
    "    end_date.append(date.strftime(format='%H:%M'))"
   ]
  },
  {
   "cell_type": "code",
   "execution_count": 15,
   "metadata": {},
   "outputs": [],
   "source": [
    "df = pd.DataFrame(\n",
    "    data = {\n",
    "        'start_time': np.repeat(start_date.strftime(format='%H:%M'), n),\n",
    "        'end_time': end_date,\n",
    "        'wait_time': np.array(wait_time).T,\n",
    "        'observed': np.random.binomial(n=1, p=.5, size=n)\n",
    "    }\n",
    ")"
   ]
  },
  {
   "cell_type": "code",
   "execution_count": 16,
   "metadata": {},
   "outputs": [
    {
     "name": "stdout",
     "output_type": "stream",
     "text": [
      "Dataset preview:\n"
     ]
    },
    {
     "data": {
      "text/html": [
       "<div>\n",
       "<style scoped>\n",
       "    .dataframe tbody tr th:only-of-type {\n",
       "        vertical-align: middle;\n",
       "    }\n",
       "\n",
       "    .dataframe tbody tr th {\n",
       "        vertical-align: top;\n",
       "    }\n",
       "\n",
       "    .dataframe thead th {\n",
       "        text-align: right;\n",
       "    }\n",
       "</style>\n",
       "<table border=\"1\" class=\"dataframe\">\n",
       "  <thead>\n",
       "    <tr style=\"text-align: right;\">\n",
       "      <th></th>\n",
       "      <th>start_time</th>\n",
       "      <th>end_time</th>\n",
       "      <th>wait_time</th>\n",
       "      <th>observed</th>\n",
       "    </tr>\n",
       "  </thead>\n",
       "  <tbody>\n",
       "    <tr>\n",
       "      <th>995</th>\n",
       "      <td>08:00</td>\n",
       "      <td>08:13</td>\n",
       "      <td>13</td>\n",
       "      <td>1</td>\n",
       "    </tr>\n",
       "    <tr>\n",
       "      <th>996</th>\n",
       "      <td>08:00</td>\n",
       "      <td>08:34</td>\n",
       "      <td>34</td>\n",
       "      <td>0</td>\n",
       "    </tr>\n",
       "    <tr>\n",
       "      <th>997</th>\n",
       "      <td>08:00</td>\n",
       "      <td>08:37</td>\n",
       "      <td>37</td>\n",
       "      <td>1</td>\n",
       "    </tr>\n",
       "    <tr>\n",
       "      <th>998</th>\n",
       "      <td>08:00</td>\n",
       "      <td>08:08</td>\n",
       "      <td>8</td>\n",
       "      <td>0</td>\n",
       "    </tr>\n",
       "    <tr>\n",
       "      <th>999</th>\n",
       "      <td>08:00</td>\n",
       "      <td>08:11</td>\n",
       "      <td>11</td>\n",
       "      <td>0</td>\n",
       "    </tr>\n",
       "  </tbody>\n",
       "</table>\n",
       "</div>"
      ],
      "text/plain": [
       "    start_time end_time  wait_time  observed\n",
       "995      08:00    08:13         13         1\n",
       "996      08:00    08:34         34         0\n",
       "997      08:00    08:37         37         1\n",
       "998      08:00    08:08          8         0\n",
       "999      08:00    08:11         11         0"
      ]
     },
     "execution_count": 16,
     "metadata": {},
     "output_type": "execute_result"
    }
   ],
   "source": [
    "print(\"Dataset preview:\")\n",
    "df.tail(5)"
   ]
  },
  {
   "cell_type": "markdown",
   "metadata": {},
   "source": [
    "# Analysis\n",
    "\n",
    "We use Kaplan-Meier estimator to calculate probability of getting a bus after waiting for *x* minutes. Wait, how does it work?\n",
    "\n",
    "We aggregate the dataset based on the time attribute (`wait_time`), then we calculate number of `observed` events (get in bus). There are cases when we haven't observed the final result due to **censoring**: at the time of data collection, the `observed` event doesn't occur yet and we lost track of the final outcome. For example, I haven't got in the bus after waiting for 30 minutes, and we don't know whether I continue waiting until I get the bus or decide to use other means of transportation."
   ]
  },
  {
   "cell_type": "code",
   "execution_count": 17,
   "metadata": {},
   "outputs": [],
   "source": [
    "# from lifelines.plotting import plot_lifetimes\n",
    "\n",
    "# plt.title(\"Observed vs censored events\")\n",
    "# plot_lifetimes(df['wait_time'].head(10), df['observed'].head(10));"
   ]
  },
  {
   "cell_type": "markdown",
   "metadata": {},
   "source": [
    "We construct survival table from the aggregated data, then we use survival function $S(t)$ to calculate the survival probability.\n",
    "\n",
    "<br/>\n",
    "<center> $S(t) = Pr(T > t)$ </center>\n",
    "\n",
    "> In plain English: the survival function defines the probability the death event has not occured yet at time $t$, or equivalently, the probability of surviving past time $t$. - [Lifelines Documentation](https://lifelines.readthedocs.io/en/latest/Survival%20Analysis%20intro.html#survival-function)\n",
    "\n",
    "The `observed` event on our case is \"getting in the bus\", then the survival function calculates probability of **not** getting in the bus at time $t$; it is displayed on `KM_estimate` field below. To make it more intuitive, we can use $1 - \\text{KM_estimate}$ to resemble probability of getting in the bus."
   ]
  },
  {
   "cell_type": "code",
   "execution_count": 18,
   "metadata": {},
   "outputs": [],
   "source": [
    "from lifelines import KaplanMeierFitter\n",
    "kmf = KaplanMeierFitter()\n",
    "kmf.fit(durations=df['wait_time'], \n",
    "        event_observed=df['observed']);"
   ]
  },
  {
   "cell_type": "code",
   "execution_count": 19,
   "metadata": {},
   "outputs": [
    {
     "name": "stdout",
     "output_type": "stream",
     "text": [
      "Survival table\n",
      "==============\n",
      "\n",
      "          removed  observed  censored  entrance  at_risk  KM_estimate\n",
      "event_at                                                             \n",
      "0.0             0         0         0      1000     1000     1.000000\n",
      "1.0            14         6         8         0     1000     0.994000\n",
      "2.0            25         6        19         0      986     0.987951\n",
      "3.0            21         9        12         0      961     0.978699\n",
      "4.0            19        10         9         0      940     0.968287\n",
      "5.0            16         8         8         0      921     0.959876\n",
      "6.0            28        11        17         0      905     0.948209\n",
      "7.0            13         8         5         0      877     0.939560\n",
      "8.0            30        13        17         0      864     0.925423\n",
      "9.0            21        10        11         0      834     0.914327\n"
     ]
    }
   ],
   "source": [
    "from lifelines.utils import survival_table_from_events\n",
    "\n",
    "table = survival_table_from_events(df['wait_time'], df['observed'])\n",
    "table = table.merge(\n",
    "    kmf.survival_function_,\n",
    "    how='left',\n",
    "    left_index=True,\n",
    "    right_index=True\n",
    ")\n",
    "print(\"Survival table\")\n",
    "print(\"==============\\n\")\n",
    "print(table.head(10))\n",
    "\n",
    "table['prob_get_in_bus'] = 1-table['KM_estimate'].values"
   ]
  },
  {
   "cell_type": "code",
   "execution_count": 20,
   "metadata": {
    "scrolled": false
   },
   "outputs": [
    {
     "name": "stdout",
     "output_type": "stream",
     "text": [
      "Median: 35 minutes\n"
     ]
    },
    {
     "data": {
      "image/png": "[encoded data removed]",
      "text/plain": [
       "<Figure size 720x432 with 1 Axes>"
      ]
     },
     "metadata": {},
     "output_type": "display_data"
    }
   ],
   "source": [
    "fig, ax = plt.subplots(figsize=(10,6))\n",
    "table['prob_get_in_bus'].plot(ax=ax)\n",
    "ax.axvline(kmf.median_, linestyle='--', c='orange', label='median')\n",
    "\n",
    "plt.xlabel(\"Waiting time\")\n",
    "plt.ylabel(\"Probability of get in bus\")\n",
    "plt.legend();\n",
    "\n",
    "print('Median: {:.0f} minutes'.format(kmf.median_))"
   ]
  },
  {
   "cell_type": "markdown",
   "metadata": {},
   "source": [
    "Based on the survival probability, I am more likely to get in the bus after waiting for 35 minutes. It surely is crowded at the city, eh?\n",
    "\n",
    "Given this kind of analysis, we could suggest to add more buses so that passengers don't have to wait for such a long time."
   ]
  },
  {
   "cell_type": "markdown",
   "metadata": {},
   "source": [
    "# References\n",
    "\n",
    "- [Lifelines documentation](https://lifelines.readthedocs.io/en/latest/Quickstart.html#kaplan-meier-and-nelson-aalen), accessed at November 15, 2018."
   ]
  }
 ],
 "metadata": {
  "kernelspec": {
   "display_name": "Python 3",
   "language": "python",
   "name": "python3"
  },
  "language_info": {
   "codemirror_mode": {
    "name": "ipython",
    "version": 3
   },
   "file_extension": ".py",
   "mimetype": "text/x-python",
   "name": "python",
   "nbconvert_exporter": "python",
   "pygments_lexer": "ipython3",
   "version": "3.6.6"
  }
 },
 "nbformat": 4,
 "nbformat_minor": 2
}
