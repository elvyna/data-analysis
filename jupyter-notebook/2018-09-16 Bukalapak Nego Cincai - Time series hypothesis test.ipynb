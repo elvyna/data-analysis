{
 "cells": [
  {
   "cell_type": "code",
   "execution_count": 1,
   "metadata": {},
   "outputs": [
    {
     "name": "stderr",
     "output_type": "stream",
     "text": [
      "/home/elvyna/miniconda3/envs/py36/lib/python3.6/importlib/_bootstrap.py:219: RuntimeWarning: numpy.dtype size changed, may indicate binary incompatibility. Expected 96, got 88\n",
      "  return f(*args, **kwds)\n",
      "/home/elvyna/miniconda3/envs/py36/lib/python3.6/importlib/_bootstrap.py:219: RuntimeWarning: numpy.dtype size changed, may indicate binary incompatibility. Expected 96, got 88\n",
      "  return f(*args, **kwds)\n"
     ]
    }
   ],
   "source": [
    "import pandas as pd\n",
    "import numpy as np\n",
    "import seaborn as sns\n",
    "import matplotlib.pyplot as plt\n",
    "import math\n",
    "\n",
    "plt.style.use(\"bmh\")"
   ]
  },
  {
   "cell_type": "markdown",
   "metadata": {},
   "source": [
    "# Introduction\n",
    "\n",
    "## Background\n",
    "\n",
    "We want to know whether certain events give impact to search queries of one Indonesia's e-commerce giant: Bukalapak. On 2017's Chinese New Year, Bukalapak created ads with Bu Linda as main character on their \"Nego Cincai\" campaign. Does it affect its search queries? Since we don't know what would happen if that incident didn't happen, we'll estimate it using time series hypothesis test techniques.\n",
    "\n",
    "## Research Questions\n",
    "\n",
    "Does Nego Cincai campaign affect Bukalapak's Google search queries?"
   ]
  },
  {
   "cell_type": "markdown",
   "metadata": {},
   "source": [
    "# Assumptions and Known Limitations\n",
    "\n",
    "- We assume there is no external interventions besides Nego Cincai campaign; and the environment pre & post period is similar\n",
    "- The number doesn't represent the actual search query count. As quoted from Google: \n",
    "> Numbers represent search interest relative to the highest point on the chart for the given region and time. A value of 100 is the peak popularity for the term. A value of 50 means that the term is half as popular. A score of 0 means there was not enough data for this term."
   ]
  },
  {
   "cell_type": "markdown",
   "metadata": {},
   "source": [
    "# Data Preparation\n",
    "\n",
    "We retrieve search queries count of Bukalapak and Tokopedia from [Google Trend](https://trends.google.com/trends/explore?date=all&geo=ID&q=%2Fg%2F121v7wz6,%2Fm%2F0114n4dz).\n",
    "\n",
    "Tokopedia data will be used as comparison on Causal Impact analysis."
   ]
  },
  {
   "cell_type": "code",
   "execution_count": 2,
   "metadata": {
    "scrolled": true
   },
   "outputs": [],
   "source": [
    "df_sq = pd.read_csv(\"dataset/20180915-google-trend-tokopedia-bukalapak.csv\")\n",
    "\n",
    "df_sq['Month'] = pd.to_datetime(df_sq['Month'])\n",
    "# df_sq.drop(labels=['Tokopedia'], axis=1, inplace=True)"
   ]
  },
  {
   "cell_type": "code",
   "execution_count": 3,
   "metadata": {},
   "outputs": [
    {
     "name": "stdout",
     "output_type": "stream",
     "text": [
      "Preview - search query data\n",
      "===========================\n"
     ]
    },
    {
     "data": {
      "text/html": [
       "<div>\n",
       "<style scoped>\n",
       "    .dataframe tbody tr th:only-of-type {\n",
       "        vertical-align: middle;\n",
       "    }\n",
       "\n",
       "    .dataframe tbody tr th {\n",
       "        vertical-align: top;\n",
       "    }\n",
       "\n",
       "    .dataframe thead th {\n",
       "        text-align: right;\n",
       "    }\n",
       "</style>\n",
       "<table border=\"1\" class=\"dataframe\">\n",
       "  <thead>\n",
       "    <tr style=\"text-align: right;\">\n",
       "      <th></th>\n",
       "      <th>Month</th>\n",
       "      <th>Tokopedia</th>\n",
       "      <th>Bukalapak</th>\n",
       "    </tr>\n",
       "  </thead>\n",
       "  <tbody>\n",
       "    <tr>\n",
       "      <th>0</th>\n",
       "      <td>2011-01-01</td>\n",
       "      <td>1</td>\n",
       "      <td>4</td>\n",
       "    </tr>\n",
       "    <tr>\n",
       "      <th>1</th>\n",
       "      <td>2011-02-01</td>\n",
       "      <td>2</td>\n",
       "      <td>4</td>\n",
       "    </tr>\n",
       "    <tr>\n",
       "      <th>2</th>\n",
       "      <td>2011-03-01</td>\n",
       "      <td>2</td>\n",
       "      <td>4</td>\n",
       "    </tr>\n",
       "    <tr>\n",
       "      <th>3</th>\n",
       "      <td>2011-04-01</td>\n",
       "      <td>2</td>\n",
       "      <td>5</td>\n",
       "    </tr>\n",
       "    <tr>\n",
       "      <th>4</th>\n",
       "      <td>2011-05-01</td>\n",
       "      <td>2</td>\n",
       "      <td>4</td>\n",
       "    </tr>\n",
       "  </tbody>\n",
       "</table>\n",
       "</div>"
      ],
      "text/plain": [
       "       Month  Tokopedia  Bukalapak\n",
       "0 2011-01-01          1          4\n",
       "1 2011-02-01          2          4\n",
       "2 2011-03-01          2          4\n",
       "3 2011-04-01          2          5\n",
       "4 2011-05-01          2          4"
      ]
     },
     "execution_count": 3,
     "metadata": {},
     "output_type": "execute_result"
    }
   ],
   "source": [
    "print(\"Preview - search query data\")\n",
    "print(\"===========================\")\n",
    "df_sq.head()"
   ]
  },
  {
   "cell_type": "code",
   "execution_count": 4,
   "metadata": {},
   "outputs": [
    {
     "data": {
      "text/plain": [
       "array([[1.        , 0.96256697],\n",
       "       [0.96256697, 1.        ]])"
      ]
     },
     "execution_count": 4,
     "metadata": {},
     "output_type": "execute_result"
    }
   ],
   "source": [
    "np.corrcoef(\n",
    "    df_sq['Bukalapak'],\n",
    "    df_sq['Tokopedia']\n",
    ")"
   ]
  },
  {
   "cell_type": "markdown",
   "metadata": {},
   "source": [
    "# Analysis\n",
    "\n",
    "Before we go further, let's check out the query growth!"
   ]
  },
  {
   "cell_type": "code",
   "execution_count": 5,
   "metadata": {},
   "outputs": [
    {
     "data": {
      "image/png": "[encoded data removed]",
      "text/plain": [
       "<Figure size 864x432 with 1 Axes>"
      ]
     },
     "metadata": {},
     "output_type": "display_data"
    }
   ],
   "source": [
    "import matplotlib.dates as mdates\n",
    "\n",
    "f, ax = plt.subplots(figsize=(12,6))\n",
    "\n",
    "df_sq.plot(\n",
    "        kind='line',\n",
    "        x='Month',\n",
    "        y='Bukalapak',\n",
    "        ax=ax,\n",
    "        label='Bukalapak',\n",
    "        color='maroon'\n",
    "    )\n",
    "\n",
    "ax.format_xdata =  mdates.DateFormatter('%Y-%m-%d')\n",
    "plt.xlabel(\"Time (monthly)\")\n",
    "plt.ylabel(\"Search query\")\n",
    "f.autofmt_xdate()\n",
    "\n",
    "\n",
    "ax.axvline(\n",
    "    x='2017-01-25',\n",
    "    ymin=0,\n",
    "    ymax=100,\n",
    "    linestyle='dashed',\n",
    "    color='grey'\n",
    ")\n",
    "\n",
    "ax.annotate(\n",
    "    xy=('2017-01-25',20),\n",
    "    s='Nego Cincai first video'\n",
    ")\n",
    "\n",
    "ax.axvline(\n",
    "    x='2017-07-23',\n",
    "    ymin=0,\n",
    "    ymax=100,\n",
    "    linestyle='dashed',\n",
    "    color='grey'\n",
    ")\n",
    "\n",
    "ax.annotate(\n",
    "    xy=('2017-07-23',10),\n",
    "    s='Nego Cincai second video'\n",
    ")\n",
    "\n",
    "plt.show()"
   ]
  },
  {
   "cell_type": "markdown",
   "metadata": {},
   "source": [
    "Note:\n",
    "\n",
    "- Based on the videos' published date, Nego Cincai campaign started on January 25, 2017; with following short drama which introduced Bu Linda on January 26, 2017. There is also another ads featuring Bu Linda on July 23, 2017.\n",
    "\n",
    "Bukalapak has increasing queries around mid 2015. We observe **multiplicative model** here, since effect of seasonality and variations increase as level of the trend rises. We will decompose the data into trend and seasonal components; then we'll subtract the original data with its trend and seasonality to get the residuals."
   ]
  },
  {
   "cell_type": "code",
   "execution_count": 6,
   "metadata": {},
   "outputs": [
    {
     "name": "stdout",
     "output_type": "stream",
     "text": [
      "Time series decomposition - Bukalapak\n"
     ]
    },
    {
     "data": {
      "image/png": "[encoded data removed]",
      "text/plain": [
       "<Figure size 432x288 with 4 Axes>"
      ]
     },
     "metadata": {},
     "output_type": "display_data"
    }
   ],
   "source": [
    "# freq = 12; look for yearly seasonality\n",
    "\n",
    "from statsmodels.tsa.seasonal import seasonal_decompose\n",
    "res_bl = seasonal_decompose(df_sq['Bukalapak'], freq=12, model='multiplicative')\n",
    "\n",
    "print(\"Time series decomposition - Bukalapak\")\n",
    "res_bl.plot()\n",
    "plt.show()"
   ]
  },
  {
   "cell_type": "markdown",
   "metadata": {},
   "source": [
    "## Hypothesis Testing\n",
    "\n"
   ]
  },
  {
   "cell_type": "code",
   "execution_count": 7,
   "metadata": {},
   "outputs": [],
   "source": [
    "df_sq = df_sq.merge(\n",
    "    pd.DataFrame(res_bl.resid),\n",
    "    how='left',\n",
    "    left_index=True,\n",
    "    right_index=True\n",
    ").rename(columns={'Bukalapak_x':'observed',\n",
    "                 'Bukalapak_y':'residual'})"
   ]
  },
  {
   "cell_type": "code",
   "execution_count": 8,
   "metadata": {},
   "outputs": [],
   "source": [
    "START_VIDEO_1 = pd.to_datetime('2017-01-25')\n",
    "START_VIDEO_2 = pd.to_datetime('2017-07-23')\n",
    "\n",
    "def check_flag(df, dt_column='Month'):\n",
    "    _flag = []\n",
    "    for ix, row in df.iterrows():\n",
    "        if row[dt_column] < START_VIDEO_1:\n",
    "            _flag.append('BEFORE_CAMPAIGN')\n",
    "        elif row[dt_column] < START_VIDEO_2:\n",
    "            _flag.append('AFTER_FIRST_CAMPAIGN')\n",
    "        else:\n",
    "            _flag.append('AFTER_SECOND_CAMPAIGN')\n",
    "    return _flag"
   ]
  },
  {
   "cell_type": "code",
   "execution_count": 9,
   "metadata": {},
   "outputs": [],
   "source": [
    "df_sq['flag'] = check_flag(df_sq)"
   ]
  },
  {
   "cell_type": "markdown",
   "metadata": {},
   "source": [
    "### Hypothesis 1\n",
    "\n",
    "> - H0: First campaign doesn't affect the search query.\n",
    "> - H1: First campaign changes number of search query.\n",
    "\n",
    "Since we already extract the residuals, we assume that search query before and after first campaign are independent."
   ]
  },
  {
   "cell_type": "code",
   "execution_count": 10,
   "metadata": {},
   "outputs": [
    {
     "data": {
      "text/plain": [
       "Ttest_indResult(statistic=-1.000613762791577, pvalue=0.3200686506120875)"
      ]
     },
     "execution_count": 10,
     "metadata": {},
     "output_type": "execute_result"
    }
   ],
   "source": [
    "from scipy.stats import ttest_ind\n",
    "\n",
    "ttest_ind(\n",
    "    a=df_sq[(df_sq['flag'] == 'BEFORE_CAMPAIGN')]['residual'],\n",
    "    b=df_sq[(df_sq['flag'] != 'BEFORE_CAMPAIGN')]['residual'],\n",
    "    nan_policy='omit'\n",
    ")"
   ]
  },
  {
   "cell_type": "markdown",
   "metadata": {},
   "source": [
    "The first campaign doesn't significantly change number of search query."
   ]
  },
  {
   "cell_type": "code",
   "execution_count": 11,
   "metadata": {},
   "outputs": [
    {
     "data": {
      "text/plain": [
       "Ttest_indResult(statistic=0.6360862248994559, pvalue=0.5265588018756069)"
      ]
     },
     "execution_count": 11,
     "metadata": {},
     "output_type": "execute_result"
    }
   ],
   "source": [
    "from scipy.stats import ttest_ind\n",
    "\n",
    "ttest_ind(\n",
    "    a=df_sq[(df_sq['flag'] == 'AFTER_SECOND_CAMPAIGN')]['residual'],\n",
    "    b=df_sq[(df_sq['flag'] != 'AFTER_SECOND_CAMPAIGN')]['residual'],\n",
    "    nan_policy='omit'\n",
    ")"
   ]
  },
  {
   "cell_type": "markdown",
   "metadata": {},
   "source": [
    "The second campaign also doesn't significantly change number of search query."
   ]
  },
  {
   "cell_type": "markdown",
   "metadata": {},
   "source": [
    "## Causal Impact"
   ]
  },
  {
   "cell_type": "code",
   "execution_count": 12,
   "metadata": {},
   "outputs": [],
   "source": [
    "df_sq.to_csv(\"dataset/20180916-bukalapak-campaign.csv\",\n",
    "            index=False)"
   ]
  },
  {
   "cell_type": "code",
   "execution_count": 13,
   "metadata": {},
   "outputs": [],
   "source": [
    "# from causal_impact.causal_impact import CausalImpact\n",
    "\n",
    "# # df_sq.index = df_sq.Month\n",
    "# # ci = CausalImpact(data=df_sq['observed'],\n",
    "# #             inter_date=pd.to_datetime(START_VIDEO_1.to_period('M').start_time,\n",
    "# #                                       format='%Y-%m-%d'))\n",
    "\n",
    "# ci = CausalImpact(data=df_sq['observed'],\n",
    "#             inter_date=73)"
   ]
  },
  {
   "cell_type": "code",
   "execution_count": 14,
   "metadata": {},
   "outputs": [],
   "source": [
    "# ci.run()\n",
    "# ci.plot()"
   ]
  },
  {
   "cell_type": "code",
   "execution_count": null,
   "metadata": {},
   "outputs": [],
   "source": []
  },
  {
   "cell_type": "code",
   "execution_count": null,
   "metadata": {},
   "outputs": [],
   "source": []
  },
  {
   "cell_type": "markdown",
   "metadata": {},
   "source": [
    "# Results and Discussions\n",
    "\n",
    "*describe what you find and how it can be improved*"
   ]
  },
  {
   "cell_type": "code",
   "execution_count": null,
   "metadata": {},
   "outputs": [],
   "source": []
  },
  {
   "cell_type": "markdown",
   "metadata": {},
   "source": [
    "# References\n",
    "\n"
   ]
  },
  {
   "cell_type": "code",
   "execution_count": null,
   "metadata": {},
   "outputs": [],
   "source": []
  }
 ],
 "metadata": {
  "kernelspec": {
   "display_name": "Python 3",
   "language": "python",
   "name": "python3"
  },
  "language_info": {
   "codemirror_mode": {
    "name": "ipython",
    "version": 3
   },
   "file_extension": ".py",
   "mimetype": "text/x-python",
   "name": "python",
   "nbconvert_exporter": "python",
   "pygments_lexer": "ipython3",
   "version": "3.6.6"
  }
 },
 "nbformat": 4,
 "nbformat_minor": 2
}
